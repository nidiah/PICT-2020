{
 "cells": [
  {
   "cell_type": "markdown",
   "id": "5c40a153-5946-4169-ab56-400478d467e1",
   "metadata": {},
   "source": [
    "# Mapa de fuentes\n",
    "\n",
    "Actualizar el mapa con los lugares donde se tomaron las muestras de trabajo de campo (https://dila-ling.github.io/pict-glotales/mapa/). Este mapa tiene la locaclización de fuentes de texto y de audio. Queremos actualizarlo con la localización de las tomas de los nuevos audios incorporados en ago-sep 2023.\n",
    "\n",
    "- mapa:[../pict-glotales/mapa.md](../pict-glotales/mapa.md)\n",
    "- datos: [palabras_en_comun_audios](https://docs.google.com/spreadsheets/d/1GtliM_yutOBnWaferOmQjVNLt_xOxz56rst6ZR9MkXc/edit#gid=1308046217), Tanda=2023-08, Comunidad, Latitud, Longitud\n",
    "\n",
    "También quiero que el mapa tome los datos de un json o de un geojson. Ver [places-by-chapter-map](../notebooks/Del-Barco-Centenera/places-by-chapter-map.ipynb) para construir un [json](https://github.com/hdlabconicet/argentina-y-conquista-del-rio-de-la-plata/blob/7825d3a9f90f4225c322964d5acf4ba067e63b61/assets/js/mapData.js) de datos var places = {'PLACENAME': 'NombreComunidad', 'SOURCES': ['Gerzenstein, 1985', 'Gerzenstein, 1994', 'Gerzenstein, 1999', 'Tacconi, 2015'], 'COLOR': '#4363d8'(según lengua), 'LAT': -25.91667, 'LNG': -57.15}, ...]. [Mapa correspondiente](https://github.com/hdlabconicet/argentina-y-conquista-del-rio-de-la-plata/blob/7825d3a9f90f4225c322964d5acf4ba067e63b61/index.html). [geojson](../argentina-y-conquista-del-rio-de-la-plata/assets/js/mapData.geo.js) y [mapa correspondiente](https://github.com/hdlabconicet/argentina-y-conquista-del-rio-de-la-plata/blob/main/index.html)\n",
    "\n",
    "Y ver [build-source-map](../notebooks/PICT-20161038/build-source-map.ipynb) para construcción de mapa actual."
   ]
  },
  {
   "cell_type": "code",
   "execution_count": null,
   "id": "90db993e-f8c6-46f1-87c0-e258d52d8ee8",
   "metadata": {},
   "outputs": [],
   "source": [
    "import pandas as pd\n",
    "from json import dump, load"
   ]
  },
  {
   "cell_type": "code",
   "execution_count": null,
   "id": "257b36c6-4c7f-428c-8169-e67a6bf9d5ae",
   "metadata": {},
   "outputs": [],
   "source": [
    "sheet = \"https://docs.google.com/spreadsheets/d/1GtliM_yutOBnWaferOmQjVNLt_xOxz56rst6ZR9MkXc/edit#gid=1308046217\"\n",
    "\n",
    "sheet = \n",
    "\n",
    "df = pd.read_csv(sheet)\n",
    "\n",
    "df.sample(5)"
   ]
  },
  {
   "cell_type": "markdown",
   "id": "2d53aeae-6c4e-46a0-bed5-9fb3659b6aa9",
   "metadata": {},
   "source": [
    "Hacer un mapa donde los colores de los marcadores indiquen la lengua. En el popup info de nombre de comunidad y fuente"
   ]
  },
  {
   "cell_type": "code",
   "execution_count": null,
   "id": "2e2aa10b-9fee-40cf-9bc3-f798d472be45",
   "metadata": {},
   "outputs": [],
   "source": []
  }
 ],
 "metadata": {
  "kernelspec": {
   "display_name": "Python 3",
   "language": "python",
   "name": "python3"
  },
  "language_info": {
   "codemirror_mode": {
    "name": "ipython",
    "version": 3
   },
   "file_extension": ".py",
   "mimetype": "text/x-python",
   "name": "python",
   "nbconvert_exporter": "python",
   "pygments_lexer": "ipython3",
   "version": "3.7.6"
  }
 },
 "nbformat": 4,
 "nbformat_minor": 5
}
